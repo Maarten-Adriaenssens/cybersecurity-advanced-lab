{
 "cells": [
  {
   "cell_type": "markdown",
   "metadata": {},
   "source": [
    "# Cybersecurity advanced\n",
    "## Lab 06: Hardening"
   ]
  },
  {
   "cell_type": "markdown",
   "metadata": {},
   "source": [
    "\n",
    "Links to Syllabus\n",
    "\n",
    "- [Theoretical](https://hogenttin.github.io/cybersecurity-advanced/lesson-6/theory/)\n",
    "- [Practical](https://hogenttin.github.io/cybersecurity-advanced/lesson-6/lab/)"
   ]
  },
  {
   "cell_type": "markdown",
   "metadata": {
    "vscode": {
     "languageId": "powershell"
    }
   },
   "source": [
    "Installation of Ansible on companyrouter:\n",
    "`sudo dnf install ansible`\n",
    "\n",
    "Create user ansible on following devices:\n",
    "\n",
    "- Companyrouter\n",
    "- dns (Alpine)\n",
    "- web\n",
    "- database (Alpine)\n",
    "- employee (Alpine)\n",
    "\n",
    "For Companyrouter :\n",
    "```\n",
    "sudo adduser ansible\n",
    "sudo usermod -aG wheel ansible\n",
    "su - ansible\n",
    "ssh-keygen\n",
    "```\n",
    "\n",
    "For web:\n",
    "```\n",
    "sudo adduser ansible\n",
    "sudo usermod -aG wheel ansible\n",
    "su - ansible\n",
    "mkdir .ssh\n",
    "vi authorized_keys\n",
    "#paste pub key in authorized keys\n",
    "```\n",
    "\n",
    "For Alpine :\n",
    "```\n",
    "sudo adduser ansible wheel\n",
    "su - ansible\n",
    "mkdir .ssh\n",
    "vi authorized_keys\n",
    "#paste pub key in authorized keys\n",
    "```"
   ]
  },
  {
   "cell_type": "markdown",
   "metadata": {},
   "source": [
    "Create a inventory.yml in the /home/ansible directory\n",
    "\n",
    "```yml\n",
    "servers:\n",
    "    vars:\n",
    "        ansible_user: ansible\n",
    "        ansible_become: true\n",
    "        ansible_ssh_private_key_file: /home/ansible/.ssh/ansible\n",
    "    hosts:\n",
    "        dns:\n",
    "            ansible_host: 172.30.0.4\n",
    "            ansible_become_method: doas\n",
    "\n",
    "        web:\n",
    "            ansible_host: 172.30.0.10\n",
    "            ansible_become_method: sudo\n",
    "        db:\n",
    "            ansible_host: 172.30.0.15\n",
    "            ansible_become_method: doas\n",
    "        employee:\n",
    "            ansible_host: 172.30.0.123\n",
    "            ansible_become_method: doas\n",
    "```"
   ]
  },
  {
   "cell_type": "markdown",
   "metadata": {
    "vscode": {
     "languageId": "xml"
    }
   },
   "source": [
    "The alpine machines were bugging on the sudo rights, so i solved this using doas:\n",
    "\n",
    "```\n",
    "apk add doas\n",
    "\n",
    "vi /etc/doas.d/doas.conf\n",
    "\n",
    "#add line to file:\n",
    "permit nopass :wheel\n",
    "\n",
    "adduser ansible wheel\n",
    "\n",
    "chmod 640 /etc/doas.d/doas.conf\n",
    "\n",
    "#Add following line under the ip address in the inventory file:\n",
    "ansible_become_method: doas\n",
    "\n",
    "doas apk update\n",
    "\n",
    "\n",
    "```"
   ]
  },
  {
   "cell_type": "markdown",
   "metadata": {
    "vscode": {
     "languageId": "xml"
    }
   },
   "source": [
    "Switch to ansible user on company router and exectute following cmds\n",
    "\n",
    "```\n",
    "sudo ansible -i inventory.yml -m \"ping\" all\n",
    "\n",
    "ansible -i inventory.yml all -m command -a \"date\"\n",
    "\n",
    "ansible -i inventory.yml all -m fetch -a \"src=/etc/passwd dest=~/passwd_files flat=yes\"\n",
    "\n",
    "ansible -i inventory.yml all -m user -a \"name=walt password=$(openssl passwd -1 'Friday13th!')\"\n",
    "\n",
    "ansible -i inventory.yml all -m copy -a \"src=~/file.txt dest=~/file.txt\"\n",
    "```\n",
    "\n",
    "\n"
   ]
  },
  {
   "cell_type": "markdown",
   "metadata": {},
   "source": []
  }
 ],
 "metadata": {
  "language_info": {
   "name": "python"
  }
 },
 "nbformat": 4,
 "nbformat_minor": 2
}
