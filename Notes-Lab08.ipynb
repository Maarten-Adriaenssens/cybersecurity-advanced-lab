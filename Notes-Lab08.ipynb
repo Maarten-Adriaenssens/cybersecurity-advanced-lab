{
 "cells": [
  {
   "cell_type": "markdown",
   "metadata": {},
   "source": [
    "# Cybersecurity advanced\n",
    "## Lab 08: Siem\n"
   ]
  },
  {
   "cell_type": "markdown",
   "metadata": {},
   "source": [
    "\n",
    "Links to Syllabus\n",
    "\n",
    "- [Theoretical](https://hogenttin.github.io/cybersecurity-advanced/lesson-8/theory/)\n",
    "- [Practical](https://hogenttin.github.io/cybersecurity-advanced/lesson-8/lab/)"
   ]
  },
  {
   "cell_type": "markdown",
   "metadata": {
    "vscode": {
     "languageId": "powershell"
    }
   },
   "source": []
  },
  {
   "cell_type": "markdown",
   "metadata": {
    "vscode": {
     "languageId": "xml"
    }
   },
   "source": [
    "# Demo\n",
    "\n",
    "`ssh -L 443:172.30.0.20:443 wazuh`\n",
    "\n",
    "localhost:443\n",
    "\n",
    "inlog wazuh dashboard:\n",
    "\n",
    "- login admin\n",
    "\n",
    "- password: kU.53gP2LHhJ0U94+yl3GkIK8RHq+NqX\n",
    "\n",
    "\n",
    "New process = auditd, not implemented\n",
    "\n"
   ]
  },
  {
   "cell_type": "markdown",
   "metadata": {},
   "source": []
  }
 ],
 "metadata": {
  "language_info": {
   "name": "python"
  }
 },
 "nbformat": 4,
 "nbformat_minor": 2
}
