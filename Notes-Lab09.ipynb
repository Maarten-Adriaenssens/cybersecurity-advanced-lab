{
 "cells": [
  {
   "cell_type": "markdown",
   "metadata": {},
   "source": [
    "# Cybersecurity advanced\n",
    "## Lab 09: IPsec"
   ]
  },
  {
   "cell_type": "markdown",
   "metadata": {},
   "source": [
    "\n",
    "Links to Syllabus\n",
    "\n",
    "- [Theoretical](https://hogenttin.github.io/cybersecurity-advanced/lesson-9/theory/)\n",
    "- [Practical](https://hogenttin.github.io/cybersecurity-advanced/lesson-9/lab/)"
   ]
  },
  {
   "cell_type": "markdown",
   "metadata": {
    "vscode": {
     "languageId": "powershell"
    }
   },
   "source": []
  },
  {
   "cell_type": "markdown",
   "metadata": {
    "vscode": {
     "languageId": "xml"
    }
   },
   "source": [
    "# Demo\n",
    "\n",
    "Start tunnel:\n",
    "- companyrouter\n",
    "\n",
    "```bash \n",
    "sudo ./IPsecHome2Comp.sh\n",
    "sudo ./IPsecComp2Home.sh\n",
    "```\n",
    "\n",
    "- homerouter\n",
    "\n",
    "```bash \n",
    "sudo ./IPsecHome2Comp.sh\n",
    "sudo ./IPsecComp2Home.sh\n",
    "```\n",
    "\n",
    "\n",
    "Checkup:\n",
    "\n",
    "- companyrouter\n",
    "\n",
    "`sudo ip xfrm policy show`\n",
    "\n",
    "- homerouter\n",
    "\n",
    "`sudo ip xfrm policy show`"
   ]
  },
  {
   "cell_type": "markdown",
   "metadata": {},
   "source": []
  }
 ],
 "metadata": {
  "language_info": {
   "name": "python"
  }
 },
 "nbformat": 4,
 "nbformat_minor": 2
}
