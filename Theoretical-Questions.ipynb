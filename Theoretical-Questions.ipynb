{
 "cells": [
  {
   "cell_type": "markdown",
   "metadata": {},
   "source": [
    "# List with possible theoretical questions \n"
   ]
  },
  {
   "cell_type": "markdown",
   "metadata": {},
   "source": [
    "## Chapter 1: DNS ([Lab 1](Notes-Lab01.ipynb))"
   ]
  },
  {
   "cell_type": "markdown",
   "metadata": {},
   "source": [
    "\n",
    "1. What is the swiss cheese model and how can it be applied to cybersecurity?\n",
    "\n",
    "2. What different type of network attacks exist?\n",
    "   1. What is a (D)DoS attack?\n",
    "   2. How can DNS be considered an attack vector as well?\n",
    "3. DNS:\n",
    "   1. What information can be enumerated from a DNS server\n",
    "   2. When is it intended? What is considered a \"normal\" DNS resolve and how can you perform it using a CLI tool?\n",
    "   3. What is, and how can you perform a reverse lookup?\n",
    "   4. What is meant by authoritative nameservers?\n",
    "   5. What is a zone transfer attack and why is it called an attack? Is a zone transfer always harmful?\n",
    "4. tcpdump (or alternatives)\n",
    "   1. How can you create a network dump, only using the CLI, on a machine without a GUI?\n",
    "   2. How can you exclude SSH traffic?\n",
    "   3. How can you only include HTTP traffic?\n",
    "5. Wireshark:\n",
    "   1. See questions from 4 - tcpdump\n",
    "   2. What can an analyst learn from the following windows inside wireshark:\n",
    "      1. Conversations\n",
    "      2. Statistics\n",
    "      3. Protocol Hierarchy"
   ]
  },
  {
   "cell_type": "markdown",
   "metadata": {},
   "source": [
    "## Chapter 2: Firewall ([Lab 2](Notes-Lab02.ipynb))"
   ]
  },
  {
   "cell_type": "markdown",
   "metadata": {},
   "source": [
    "1. In terms of the OSI model, what does a firewall do?\n",
    "2. Review the advantages and disadvantages of a host-based firewall vs a network-based firewall.\n",
    "3. What is meant by network segmentation and what are network/firewall zones?\n",
    "4. What is a DMZ? How can you build this with 1 firewall vs 2 firewalls? Are there advantages?\n",
    "5. Nmap:\n",
    "   1. When scanning a TCP or UDP port with nmap, what is the difference between open, filtered and closed? How is nmap able to make this conclusion?\n",
    "   2. Review cybersecurity and virtualisation: what is a banner grab and how do you do this using nmap?\n",
    "6. Systemd\n",
    "   1. Where can you find the existing systemd configuration files on a Linux system with systemd?\n",
    "   2. Review the following systemctl subcommands: `systemctl cat ...`, `systemctl show ...`, `systemctl edit ...`, `systemctl list-units`, `systemctl list-unit-files` and `systemctl daemon-reload`.\n",
    "   3. How can you create your own systemd service? Note: you don't need to learn this out of the top of your head, but you should be able to interpret a given systemd unit file.\n",
    "   4. What are systemd-timers?\n",
    "7. Proxy:\n",
    "   1. What is a (forward) proxy?\n",
    "   2. What is a reverse proxy?\n",
    "   3. How are (reverse) proxies related to load balancers? Do you know software that can do both?"
   ]
  },
  {
   "cell_type": "markdown",
   "metadata": {},
   "source": [
    "## Chapter 3: SSH ([Lab 3](Notes-Lab03.ipynb))"
   ]
  },
  {
   "cell_type": "markdown",
   "metadata": {},
   "source": [
    "1. What are the essential elements to configure SSH properly:\n",
    "   1. Logging in remotely using keys instead of user/password\n",
    "   2. `authorized_keys` file\n",
    "   3. `known-hosts` file\n",
    "   4. SSH config for client and server\n",
    "      1. `ssh web` for example should automatically login to the webserver. This is perfectly possible from your host system!\n",
    "   5. The difference between a passphrase on a key vs user/password\n",
    "2. What is meant by a Jump/Bastion host and why would a company use this?\n",
    "3. What is the difference between local and remote port forwarding using SSH? You should be able to explain the difference using a proper use case.\n",
    "4. What is the SOCKS protocol conceptually and give an example where or when this might be interesting."
   ]
  },
  {
   "cell_type": "markdown",
   "metadata": {},
   "source": [
    "## Chapter 4: IDS & IPS ([Lab 4](Notes-Lab04.ipynb))"
   ]
  },
  {
   "cell_type": "markdown",
   "metadata": {},
   "source": [
    "1. What is the difference between an IDS and an IPS?\n",
    "2. What are some fundamental differences between a firewall and an IDS/IPS, conceptually?\n",
    "3. Create, understand and interpret some basic suricata rules:\n",
    "   1. A rule that can detect a specific protocol\n",
    "   2. A rule that can detect traffic using a specific port\n",
    "4. Imagine having a physical IDS/IPS device. Where would you place it in the network if it would be separate from your firewall? How would you set this up? What is the impact on the network by adding this device?\n",
    "5. What is security onion? What is the goal? You should be able to properly explain what security onion is. The Security Onion has placed an excellent introduction for beginners on YouTube."
   ]
  },
  {
   "cell_type": "markdown",
   "metadata": {},
   "source": [
    "## Chapter 5: Honeypots ([Lab 5](Notes-Lab05.ipynb))"
   ]
  },
  {
   "cell_type": "markdown",
   "metadata": {},
   "source": [
    "1. What is a honeypot?\n",
    "2. What type of honeypots exist? Make a distinction between function, use and what they try to achieve?\n",
    "3. How do honeypots differ from honey-/canarytokens?\n",
    "4. Review Docker in terms of security:\n",
    "   1. Is Docker virtualisation (type 1 or type 2), emulation, simulation?\n",
    "   2. What are some security implications when using Docker? Is it considered to be more secure compared to virtual machines? Why (not)?\n",
    "   3. Would you use Docker to deploy a honeypot in production? Why (not)?\n",
    "5. What is a canary- or honeytoken?"
   ]
  },
  {
   "cell_type": "markdown",
   "metadata": {},
   "source": [
    "## Chapter 6: Hardening ([Lab 6](Notes-Lab06.ipynb))"
   ]
  },
  {
   "cell_type": "markdown",
   "metadata": {},
   "source": [
    "1. What is meant by the term hardening? Why are defaults often not ok?\n",
    "2. Explain short, no details, what the following things are and why they exist:\n",
    "   1. CIS Benchmark\n",
    "   2. OpenSCAP\n",
    "   3. Lynis\n",
    "   4. Microsoft Security Compliance Toolkit\n",
    "   5. Docker Bench\n",
    "   6. Maester\n",
    "   7. dev-sec.io\n",
    "3. What is OpenSCAP? (No details)\n",
    "4. What is Lynis? (No details)\n",
    "5. What is meant by threat hunting\n",
    "   1. Explain (no details) what is meant by threat modeling\n",
    "6. Why do some people call Ansible a tool suitable for hardening but also for hunting?"
   ]
  },
  {
   "cell_type": "markdown",
   "metadata": {},
   "source": [
    "## Chapter 7: Backups ([Lab 7](Notes-Lab07.ipynb))"
   ]
  },
  {
   "cell_type": "markdown",
   "metadata": {},
   "source": [
    "1. What different \"rules\" exist when talking about a backup strategy?\n",
    "2. What is the difference between a full vs an incremental backup? Give for both advantages and downsides.\n",
    "3. Why do some people state that \"synchronisation with a cloud service (OneDrive, Dropbox, Google Drive) is not a synonym for backups\"?\n",
    "4. When using a cloud storage to store backups, like OneDrive, you can assume they provide backups and maybe have a backup strategy in place. Why do cyber security experts state it is still not enough to only store critical data on (this) one place? In other words why is putting 100% trust on a cloud provider a (potential) bad idea?"
   ]
  },
  {
   "cell_type": "markdown",
   "metadata": {},
   "source": [
    "## Chapter 8: SIEM ([Lab 8](Notes-Lab08.ipynb))"
   ]
  },
  {
   "cell_type": "markdown",
   "metadata": {},
   "source": [
    "1. What is a SIEM?\n",
    "   1. The acronym\n",
    "   2. Give some examples (tools, software...)\n",
    "2. What is a SOC?\n",
    "3. What is meant by compliancy in terms of cybersecurity?\n",
    "4. What features does Wazuh offer?\n",
    "5. What is FIM?\n",
    "6. What is Sysmon?"
   ]
  },
  {
   "cell_type": "markdown",
   "metadata": {},
   "source": [
    "## Chapter 9: IPsec ([Lab 9](Notes-Lab09.ipynb))"
   ]
  },
  {
   "cell_type": "markdown",
   "metadata": {},
   "source": [
    "1. What is the fundamental goal of IPsec?\n",
    "2. How does IPsec work? What are SP's and SA's?\n",
    "3. What modes exist in IPsec? What is the difference?\n",
    "4. What is AH?\n",
    "5. What is ESP?\n",
    "6. What is IKE?"
   ]
  },
  {
   "cell_type": "markdown",
   "metadata": {},
   "source": [
    "## Chapter 10: VPN ([Lab 10](Notes-Lab10.ipynb))"
   ]
  },
  {
   "cell_type": "markdown",
   "metadata": {},
   "source": [
    "1. Review some downsides of IPsec\n",
    "2. Review what a CA is and how it works?\n",
    "3. Review how it is possible for us to browse to  https://chamilo.hogent.be and don't receive a warning in our browser? How does this work. You should be able to fully explain this in detail. Note: the final lesson/lab will help with this\n",
    "4. What is the goal of OpenVPN?\n",
    "5. How does OpenVPN work? What are the crucial elements to have a working OpenVPN setup?\n",
    "6. What is PKI?\n",
    "7. What are the fundamental differences between IPsec and Openvpn:\n",
    "   1. Do they work on the same layer of the OSI model?\n",
    "   2. Do they have the exact same goal?\n",
    "   3. What are reasons to use one over the other?\n",
    "8. Is wireguard more comparable to OpenVPN or to IPsec or to both? Explain."
   ]
  },
  {
   "cell_type": "markdown",
   "metadata": {},
   "source": [
    "## Chapter 11: CA ([Lab 11](Notes-Lab11.ipynb))"
   ]
  },
  {
   "cell_type": "markdown",
   "metadata": {},
   "source": [
    "1. Assume your browser gives and error when browsing to a HTTPS website, telling you that the certificate is not valid anymore (for example expired). If you however decide to accept the risk and continue. Is your traffic still encrypted or not? Explain.\n",
    "2. What is X.509?\n",
    "3. What is meant by CSR in this context?\n",
    "4. What is SAN, Subject Alternative Name?\n",
    "5. What are Certificate chains and cross-certifications?\n",
    "   1. How does a CA certificate renewal work using a cross-certification (note: there are alternative methods, we want you to understand (and be able to explain) the image you can find on wikipedia) ?\n",
    "6. What is the difference between SSL and TLS? What is currently the standard? Which version?\n",
    "   1. Is MD5 still used in the most recent version?\n",
    "7. What is Let's Encrypt?\n",
    "   1. Isn't it a bad thing that people - including hackers - can create webserver certificates that can be signed for free by a trusted CA that is installed in all recent devices? Explain why/not."
   ]
  }
 ],
 "metadata": {
  "language_info": {
   "name": "python"
  }
 },
 "nbformat": 4,
 "nbformat_minor": 2
}
