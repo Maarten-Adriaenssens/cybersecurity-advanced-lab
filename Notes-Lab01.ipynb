{
 "cells": [
  {
   "cell_type": "markdown",
   "metadata": {},
   "source": [
    "# Cybersecurity advanced\n",
    "## Lab 01"
   ]
  },
  {
   "cell_type": "markdown",
   "metadata": {},
   "source": [
    "\n",
    "Links to Syllabus\n",
    "\n",
    "- [Theoretical](https://hogenttin.github.io/cybersecurity-advanced/lesson-1/theory/)\n",
    "- [Practical](https://hogenttin.github.io/cybersecurity-advanced/lesson-1/lab/)"
   ]
  },
  {
   "cell_type": "markdown",
   "metadata": {
    "vscode": {
     "languageId": "powershell"
    }
   },
   "source": [
    "### Configuration RED\n",
    "→ Network:\n",
    "    - Adapter: Host-only adapter #2\n",
    "    - IP: 192.168.62.10/24\n",
    "    - dns: 172.30.0.4\n",
    "\n",
    "trying to connect to site http://www.cybersec.internal and http://www.cybersec.internal/services\n",
    "\n",
    "![internal](./DocImg/lab1-3.png)\n",
    "\n",
    "![services](./DocImg/lab1-2.png)\n"
   ]
  },
  {
   "cell_type": "markdown",
   "metadata": {},
   "source": [
    "Installed tcpdump\n",
    "\n",
    "![tcpdump](./DocImg/Lab1-1.png)"
   ]
  },
  {
   "cell_type": "markdown",
   "metadata": {},
   "source": []
  }
 ],
 "metadata": {
  "language_info": {
   "name": "python"
  }
 },
 "nbformat": 4,
 "nbformat_minor": 2
}
