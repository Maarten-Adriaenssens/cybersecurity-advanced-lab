{
 "cells": [
  {
   "cell_type": "markdown",
   "metadata": {},
   "source": [
    "# Cybersecurity advanced\n",
    "## Lab 02: Firewall"
   ]
  },
  {
   "cell_type": "markdown",
   "metadata": {},
   "source": [
    "\n",
    "Links to Syllabus\n",
    "\n",
    "- [Theoretical](https://hogenttin.github.io/cybersecurity-advanced/lesson-2/theory/)\n",
    "- [Practical](https://hogenttin.github.io/cybersecurity-advanced/lesson-2/lab/)"
   ]
  },
  {
   "cell_type": "markdown",
   "metadata": {},
   "source": [
    "### Insecure \"Fake Internet\"\n",
    "\n",
    "visiting http://www.cybersec.internal\n",
    "\n",
    "![internal](./DocImg/lab1-3.png)\n",
    "\n",
    "visiting and using insecure application\n",
    "\n",
    "![insec app](./DocImg/Lab2-1.png)\n",
    "\n",
    "SSH connection using vagrant login → possible\n",
    "\n",
    "![ssh](./DocImg/Lab2-2.png)"
   ]
  },
  {
   "cell_type": "markdown",
   "metadata": {},
   "source": [
    "### Firewall\n",
    "\n",
    "For the firewall nftables is used. The following minimal firewall settings are used:\n",
    "\n",
    "```bash\n",
    "#!/usr/sbin/nft -f\n",
    "flush ruleset\n",
    "table ip filter {\n",
    "    chain forward {\n",
    "        type filter hook forward priority filter; policy drop;\n",
    "        ip saddr 192.168.62.254 ip daddr 0.0.0.0/0 tcp dport 22 accept\n",
    "        ip saddr 0.0.0.0/0 ip daddr 0.0.0.0/0 icmp type echo-request accept\n",
    "        ip saddr 0.0.0.0/0 ip daddr 172.30.0.4 udp dport 53 accept\n",
    "        ip saddr 0.0.0.0/0 ip daddr 172.30.0.10 tcp dport { 80, 443 } accept\n",
    "        ip saddr 172.30.0.10 ip daddr 172.30.64.15 accept\n",
    "        ip saddr 172.30.64.15 ip daddr 172.30.0.10 accept\n",
    "        ip saddr { 172.30.0.0/16 } ip daddr 0.0.0.0/0 accept\n",
    "        ct state established,related accept\n",
    "    }\n",
    "}\n",
    "```\n",
    "\n",
    "***Note: It is important to make sure that the formatting settings in LF and not in CTRF***\n",
    "\n",
    "OR\n",
    "\n",
    "IPTables:\n",
    "```bash\n",
    "# accept SSH-traffic to 192.168.62.253 on port 22 via eth1:\n",
    "sudo iptables -A INPUT -p tcp --dport 22 -d 192.168.62.253 -i eth1 -j ACCEPT\n",
    "\n",
    "# accpet traffic to 192.168.62.253 on port 2222 via eth0:\n",
    "sudo iptables -A INPUT -p tcp --dport 2222 -d 192.168.62.253 -i eth1 -j ACCEPT\n",
    "\n",
    "# accpet MySQL-traffic to 192.168.62.253 on port 3306 via eth1:\n",
    "sudo iptables -A INPUT -p tcp --dport 3306 -d 192.168.62.253 -i eth1 -j ACCEPT\n",
    "\n",
    "# accept all incomming traffic to 172.30.255.254 via eth2:\n",
    "sudo iptables -A INPUT -d 172.30.255.254 -i eth2 -j ACCEPT\n",
    "\n",
    "# Accept MySQL-traffic op port 3306:\n",
    "sudo iptables -A INPUT -p tcp --dport 3306 -j ACCEPT\n",
    "\n",
    "# accept incomming traffic, part of or related to connections to 192.168.62.253 via eth1:\n",
    "sudo iptables -I INPUT -i eth1 -d 192.168.62.253 -m state --state ESTABLISHED,RELATED -j ACCEPT\n",
    "\n",
    "# Set the default protocol for incomming traffic on DROP:\n",
    "sudo iptables -P INPUT DROP\n",
    "\n",
    "# Set the default protocol for passing traffic on DROP:\n",
    "sudo iptables -P FORWARD DROP\n",
    "\n",
    "# Set the default protocol for outgoing traffic on ACCEPT:\n",
    "sudo iptables -P OUTPUT ACCEPT\n",
    "```\n",
    "To save rules: iptables-save > /etc/iptables.rules\n",
    "\n",
    "\n",
    "To revert: sudo iptables-restore < /etc/iptables/rules.v4\n"
   ]
  },
  {
   "cell_type": "markdown",
   "metadata": {},
   "source": [
    "### Ports\n",
    "\n",
    "After the `nmap -p 80,22,666 172.30.0.10`\n",
    "\n",
    "The result is the following:\n",
    "\n",
    "- 80 → open (ssh)\n",
    "- 22 → open (http)\n",
    "- 666 → closed (doom)\n",
    "\n",
    "![nmap result](./DocImg/Lab2-3.png)"
   ]
  },
  {
   "cell_type": "markdown",
   "metadata": {},
   "source": [
    "sudo dnf install -y autoconf automake diffutils file-devel gcc gcc-c++ git jansson-devel jq libcap-ng-devel libevent-devel libmaxminddb-devel libnet-devel libnetfilter_queue-devel libnfnetlink-devel libpcap-devel libtool libyaml-devel lua-devel lz4-devel make nss-devel pcre2-devel pkgconfig python3-devel python3-sphinx python3-yaml sudo which zlib-devel"
   ]
  }
 ],
 "metadata": {
  "language_info": {
   "name": "python"
  }
 },
 "nbformat": 4,
 "nbformat_minor": 2
}
