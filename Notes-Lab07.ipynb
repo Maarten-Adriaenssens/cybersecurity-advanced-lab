{
 "cells": [
  {
   "cell_type": "markdown",
   "metadata": {},
   "source": [
    "# Cybersecurity advanced\n",
    "## Lab 07: Backups"
   ]
  },
  {
   "cell_type": "markdown",
   "metadata": {},
   "source": [
    "\n",
    "Links to Syllabus\n",
    "\n",
    "- [Theoretical](https://hogenttin.github.io/cybersecurity-advanced/lesson-7/theory/)\n",
    "- [Practical](https://hogenttin.github.io/cybersecurity-advanced/lesson-7/lab/)"
   ]
  },
  {
   "cell_type": "markdown",
   "metadata": {
    "vscode": {
     "languageId": "powershell"
    }
   },
   "source": [
    "BORG KEY:\n",
    "\n",
    "```BORG_KEY 018f8b7276ac043e194a67ffed9fedd5a6244c5248645e3db9310a79c5d9aa48\n",
    "hqlhbGdvcml0aG2mc2hhMjU2pGRhdGHaAN4opkPkw1kz9fgPsoeNQvJwoBlBescuvxjG3R\n",
    "FCIlOdiGua6hBN3kNAszyQqwV6/hGTAoronMg7hKIKn5VsgSB0i3STrH1rn91Dtp/M8a/S\n",
    "8klZuH1BbYAOEOxqoolLCb9CQmwHKrz7vcg0HQBbvzORdYclneLaznqogTTVQEWsheZCNh\n",
    "58CEeOTjDgb8sjyfrwQQVS41tNADXOhltpxA4C/6ZPxENEhIyHqYy2YFxzVcaYilDrDmoZ\n",
    "GeJgbgGfxzA4oeOP7ic5LotEcTooJgveBYeslCQtGDiHbRKFCTikaGFzaNoAICB9oKqB+G\n",
    "Ifut4R/YiHcbcbGxwHdFYnorXdIRNFBa2eqml0ZXJhdGlvbnPOAAGGoKRzYWx02gAgpcGn\n",
    "U3G1ZuwdW5edcoAksvOsPtJNuq2LNyASk/l2QwCndmVyc2lvbgE=```"
   ]
  },
  {
   "cell_type": "markdown",
   "metadata": {
    "vscode": {
     "languageId": "xml"
    }
   },
   "source": [
    "To install borg:\n",
    "\n",
    "WEBSERVER\n",
    "```bash\n",
    "mkdir important-files\n",
    "cd important-files\n",
    "\n",
    "curl --remote-name-all\n",
    "https://video.blender.org/download/videos/bf1f3fb5-b119-4f9f-9930-8e20e892b898-720.mp4 https://www.gutenberg.org/ebooks/100.txt.utf-8 https://www.gutenberg.org/ebooks/996.txt.utf-8 https://upload.wikimedia.org/wikipedia/commons/4/40/Toreador_song_cleaned.ogg\n",
    "\n",
    "mv 100.txt.utf-8 100.txt\n",
    "mv 996.txt.utf-8 996.txt\n",
    "ll\n",
    "\n",
    "sudo dnf install epel-release -y\n",
    "sudo dnf search borgbackup\n",
    "sudo dnf install borgbackup -y\n",
    "\n",
    "borg init --encryption=repokey vagrant@172.30.0.15:/home/vagrant/backups\n",
    "\n",
    "echo \"export BORG_PASSPHRASE=vagrant\" >> ~/.bashrc\n",
    "source ~/.bashrc\n",
    "echo $BORG_PASSPHRASE\n",
    "```\n",
    "\n",
    "DATABASE\n",
    "```bash\n",
    "mkdir backups\n",
    "\n",
    "sudo dnf install epel-release -y\n",
    "sudo dnf search borgbackup\n",
    "sudo dnf install borgbackup -y\n",
    "\n",
    "borg key export /home/agrant/backups/\n",
    "cat config\n",
    "```\n",
    "\n",
    "BACKUPS\n",
    "- Web\n",
    "```bash\n",
    "#Create\n",
    "borg create vagrant@172.30.0.15:/home/vagrant/backups::first /home/vagrant/important-files\n",
    "#Show\n",
    "borg info vagrant@172.30.0.15:/home/vagrant/backups\n",
    "borg list vagrant@172.30.0.15:/home/vagrant/backups\n",
    "```\n",
    "\n",
    "RESTORE TO BACKUP\n",
    "- Web\n",
    "```bash\n",
    "borg extract vagrant@172.30.0.15:/home/vagrant/backups::first /home/vagrant --strip-components=2\n",
    "ll important-files/\n",
    "```"
   ]
  },
  {
   "cell_type": "markdown",
   "metadata": {
    "vscode": {
     "languageId": "xml"
    }
   },
   "source": [
    "# Service\n",
    "\n",
    "CREATE SCRIPT\n",
    "```bash\n",
    "mkdir -p /home/vagrant/scripts\n",
    "vi backup_script.sh\n",
    "\n",
    "    #!/bin/bash\n",
    "\n",
    "    export BORG_PASSPHRASE=\"vagrant\"\n",
    "    borg create\n",
    "    vagrant@172.30.0.15:/home/vagrant/backups::'{now:%Y-%m-%d}' /home/vagrant/important-files\n",
    "    borg prune -v --prefix '{now:%Y-%m-%d}' --keep-within=5m --keep-hourly=24 --keep-daily=7 --keep-weekly=4\n",
    "\n",
    "\n",
    "sudo su\n",
    "cd /etc/systemd/system/\n",
    "vi borg-backup.timer\n",
    "\n",
    "    [Unit]\n",
    "    Description=BorgBackup 5min timer\n",
    "\n",
    "    [Timer]\n",
    "    OnCalendar=*:0/5\n",
    "    Unit=borg-backup.service\n",
    "\n",
    "    [Install]\n",
    "    WantedBy=timers.target\n",
    "\n",
    "vi borg-backup.service\n",
    "\n",
    "    [Unit]\n",
    "    Description=Borg Backup Service\n",
    "\n",
    "    [Service]\n",
    "    Type=simple\n",
    "    Environment=\"BORG_REPO=vagrant@172.30.0.15:/home/vagrant/backups\"\n",
    "    Environment=\"BORG_PASSPHRASE=vagrant\"\n",
    "    ExecStart=/bin/bash /home/vagrant/scripts/backup_script.sh\n",
    "    User=vagrant\n",
    "    Group=vagrant\n",
    "    Restart=on-failure\n",
    "\n",
    "    [Install]\n",
    "    WantedBy=multi-user.target\n",
    "\n",
    "sudo systemctl daemon-reload\n",
    "sudo systemctl enable borg-backup.timer\n",
    "sudo systemctl start borg-backup.service\n",
    "sudo systemctl start borg-backup.timer\n",
    "sudo systemctl list-timers\n",
    "```"
   ]
  },
  {
   "cell_type": "markdown",
   "metadata": {},
   "source": [
    "# Demo\n",
    "\n",
    "BACKUPS\n",
    "- Web\n",
    "```bash\n",
    "#Create\n",
    "borg create vagrant@172.30.0.15:/home/vagrant/backups::first /home/vagrant/important-files\n",
    "#Show\n",
    "borg info vagrant@172.30.0.15:/home/vagrant/backups\n",
    "borg list vagrant@172.30.0.15:/home/vagrant/backups\n",
    "```\n",
    "\n",
    "RESTORE TO BACKUP\n",
    "- Web\n",
    "```bash\n",
    "borg extract vagrant@172.30.0.15:/home/vagrant/backups::first /home/vagrant --strip-components=2\n",
    "ll important-files/\n",
    "```"
   ]
  },
  {
   "cell_type": "markdown",
   "metadata": {},
   "source": []
  }
 ],
 "metadata": {
  "language_info": {
   "name": "python"
  }
 },
 "nbformat": 4,
 "nbformat_minor": 2
}
