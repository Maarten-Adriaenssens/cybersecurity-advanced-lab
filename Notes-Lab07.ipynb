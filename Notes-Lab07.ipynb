{
 "cells": [
  {
   "cell_type": "markdown",
   "metadata": {},
   "source": [
    "# Cybersecurity advanced\n",
    "## Lab 07"
   ]
  },
  {
   "cell_type": "markdown",
   "metadata": {},
   "source": [
    "\n",
    "Links to Syllabus\n",
    "\n",
    "- [Theoretical](https://hogenttin.github.io/cybersecurity-advanced/lesson-7/theory/)\n",
    "- [Practical](https://hogenttin.github.io/cybersecurity-advanced/lesson-7/lab/)"
   ]
  },
  {
   "cell_type": "markdown",
   "metadata": {
    "vscode": {
     "languageId": "powershell"
    }
   },
   "source": [
    "BORG KEY:\n",
    "\n",
    "```BORG_KEY 018f8b7276ac043e194a67ffed9fedd5a6244c5248645e3db9310a79c5d9aa48\n",
    "hqlhbGdvcml0aG2mc2hhMjU2pGRhdGHaAN4opkPkw1kz9fgPsoeNQvJwoBlBescuvxjG3R\n",
    "FCIlOdiGua6hBN3kNAszyQqwV6/hGTAoronMg7hKIKn5VsgSB0i3STrH1rn91Dtp/M8a/S\n",
    "8klZuH1BbYAOEOxqoolLCb9CQmwHKrz7vcg0HQBbvzORdYclneLaznqogTTVQEWsheZCNh\n",
    "58CEeOTjDgb8sjyfrwQQVS41tNADXOhltpxA4C/6ZPxENEhIyHqYy2YFxzVcaYilDrDmoZ\n",
    "GeJgbgGfxzA4oeOP7ic5LotEcTooJgveBYeslCQtGDiHbRKFCTikaGFzaNoAICB9oKqB+G\n",
    "Ifut4R/YiHcbcbGxwHdFYnorXdIRNFBa2eqml0ZXJhdGlvbnPOAAGGoKRzYWx02gAgpcGn\n",
    "U3G1ZuwdW5edcoAksvOsPtJNuq2LNyASk/l2QwCndmVyc2lvbgE=```"
   ]
  },
  {
   "cell_type": "code",
   "execution_count": null,
   "metadata": {
    "vscode": {
     "languageId": "xml"
    }
   },
   "outputs": [],
   "source": []
  },
  {
   "cell_type": "code",
   "execution_count": null,
   "metadata": {
    "vscode": {
     "languageId": "xml"
    }
   },
   "outputs": [],
   "source": []
  },
  {
   "cell_type": "markdown",
   "metadata": {},
   "source": []
  }
 ],
 "metadata": {
  "language_info": {
   "name": "python"
  }
 },
 "nbformat": 4,
 "nbformat_minor": 2
}
