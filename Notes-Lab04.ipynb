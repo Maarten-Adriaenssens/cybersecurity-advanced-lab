{
 "cells": [
  {
   "cell_type": "markdown",
   "metadata": {},
   "source": [
    "# Cybersecurity advanced\n",
    "## Lab 04: Suricata"
   ]
  },
  {
   "cell_type": "markdown",
   "metadata": {},
   "source": [
    "\n",
    "Links to Syllabus\n",
    "\n",
    "- [Theoretical](https://hogenttin.github.io/cybersecurity-advanced/lesson-4/theory/)\n",
    "- [Practical](https://hogenttin.github.io/cybersecurity-advanced/lesson-14lab/)"
   ]
  },
  {
   "cell_type": "markdown",
   "metadata": {},
   "source": [
    "### Suricata\n",
    "\n",
    "First we disable nftables from previous lab\n",
    "\n",
    "To install suricata:\n",
    "\n",
    "```bash\n",
    "sudo dnf install epel-release -y\n",
    "sudo dnf update -y\n",
    "sudo dnf install suricata -y\n",
    "```\n",
    "\n",
    "Then create a rules file called local.rules in the /etc/suricata/rules directory\n",
    "The file contains following ruleset:\n",
    "\n",
    "```bash\n",
    "      alert icmp any any -> any any (msg:\"ICMP Ping detected\"; sid:1000001; rev:1;)\n",
    "      alert tcp any any -> any 3306 (msg:\"MySQL Connection Detected\"; sid:1000002; rev:1;)\n",
    "```\n",
    "\n",
    "After change the ruleset directory and rules in the `suricata.yml`\n",
    "\n",
    "```bash\n",
    "default-rule-path: /etc/suricata/rules\n",
    "      \n",
    "rule-files:\n",
    "- local.rules\n",
    "```\n"
   ]
  },
  {
   "cell_type": "markdown",
   "metadata": {},
   "source": [
    "Suricata still listens on ETH0, you can check this using `sudo systemctl status suricata`, it will show:\n",
    "\n",
    "```bash\n",
    "● suricata.service - Suricata Intrusion Detection Service\n",
    "     Loaded: loaded (/usr/lib/systemd/system/suricata.service; enabled; preset: disabled)\n",
    "     Active: active (running) since Fri 2024-12-27 14:49:10 UTC; 8min ago\n",
    "       Docs: man:suricata(1)\n",
    "    Process: 944 ExecStartPre=/bin/rm -f /var/run/suricata.pid (code=exited, status=0/SUCCESS)\n",
    "   Main PID: 946 (Suricata-Main)\n",
    "      Tasks: 7 (limit: 24468)\n",
    "     Memory: 42.4M\n",
    "        CPU: 3.992s\n",
    "     CGroup: /system.slice/suricata.service\n",
    "             └─946 /sbin/suricata -c /etc/suricata/suricata.yaml --pidfile /var/run/suricata.pid -i eth0 --user suricata\n",
    "```\n",
    "\n",
    "We need to change this to eth1\n",
    "change the eth0 to eth1 in the `/etc/sysconfig/suricata`\n",
    "\n",
    "After we restart suricata `sudo systemctl restart suricata`\n",
    "if we check the status again the nic is changed to eth1:\n",
    "\n",
    "```bash\n",
    "● suricata.service - Suricata Intrusion Detection Service\n",
    "     Loaded: loaded (/usr/lib/systemd/system/suricata.service; enabled; preset: disabled)\n",
    "     Active: active (running) since Fri 2024-12-27 14:52:10 UTC; 8min ago\n",
    "       Docs: man:suricata(1)\n",
    "    Process: 944 ExecStartPre=/bin/rm -f /var/run/suricata.pid (code=exited, status=0/SUCCESS)\n",
    "   Main PID: 946 (Suricata-Main)\n",
    "      Tasks: 7 (limit: 24468)\n",
    "     Memory: 42.4M\n",
    "        CPU: 3.992s\n",
    "     CGroup: /system.slice/suricata.service\n",
    "             └─946 /sbin/suricata -c /etc/suricata/suricata.yaml --pidfile /var/run/suricata.pid -i eth1 --user suricata\n",
    "```\n",
    "\n",
    "After this change we start a ping on the ***red*** machine `ping 172.30.0.4` and wait for a couple of minutes\n",
    "\n",
    "We check the fast.log file on the companyrouter, `sudo cat /var/log/suricata/fast.log`\n",
    "\n",
    "```bash\n",
    "[root@companyrouter suricata]# cat /var/log/suricata/fast.log\n",
    "12/27/2024-14:52:11.365516  [**] [1:1000001:1] ICMP Ping detected [**] [Classification: (null)] [Priority: 3] {ICMP} 192.168.62.10:8 -> 172.30.0.4:0\n",
    "12/27/2024-14:52:11.365889  [**] [1:1000001:1] ICMP Ping detected [**] [Classification: (null)] [Priority: 3] {ICMP} 172.30.0.4:0 -> 192.168.62.10:0\n",
    "12/27/2024-14:53:00.264770  [**] [1:1000001:1] ICMP Ping detected [**] [Classification: (null)] [Priority: 3] {IPv6-ICMP} fe80:0000:0000:0000:0a00:27ff:fe5b:dd1e:133 -> ff02:0000:0000:0000:0000:0000:0000:0002:0\n",
    "12/27/2024-14:59:09.984563  [**] [1:1000001:1] ICMP Ping detected [**] [Classification: (null)] [Priority: 3] {IPv6-ICMP} fe80:0000:0000:0000:89f2:eab5:43d1:5937:143 -> ff02:0000:0000:0000:0000:0000:0000:0016:0\n",
    "12/27/2024-15:01:05.449610  [**] [1:1000001:1] ICMP Ping detected [**] [Classification: (null)] [Priority: 3] {IPv6-ICMP} fe80:0000:0000:0000:0a00:27ff:fe40:efb3:133 -> ff02:0000:0000:0000:0000:0000:0000:0002:0\n",
    "12/27/2024-15:01:44.553344  [**] [1:1000001:1] ICMP Ping detected [**] [Classification: (null)] [Priority: 3] {IPv6-ICMP} fe80:0000:0000:0000:0a00:27ff:fe5b:dd1e:133 -> ff02:0000:0000:0000:0000:0000:0000:0002:0\n",
    "12/27/2024-15:08:24.153548  [**] [1:1000001:1] ICMP Ping detected [**] [Classification: (null)] [Priority: 3] {IPv6-ICMP} fe80:0000:0000:0000:bd42:065b:92b1:fc31:133 -> ff02:0000:0000:0000:0000:0000:0000:0002:0\n",
    "```"
   ]
  },
  {
   "cell_type": "markdown",
   "metadata": {},
   "source": [
    "To make it an IPS:\n",
    "\n",
    "change the config in the /etc/suricata/suricata.yml\n",
    "\n",
    "```bash\n",
    "# Linux high speed capture support\n",
    "af-packet:\n",
    "  - interface: eth0\n",
    "    # Number of receive threads. \"auto\" uses the number of cores\n",
    "    threads: auto\n",
    "    # Default clusterid. AF_PACKET will load balance packets based on flow.\n",
    "    cluster-id: 99\n",
    "    copy-mode: ips\n",
    "    copy-iface: eth0\n",
    "```"
   ]
  },
  {
   "cell_type": "markdown",
   "metadata": {},
   "source": []
  }
 ],
 "metadata": {
  "language_info": {
   "name": "python"
  }
 },
 "nbformat": 4,
 "nbformat_minor": 2
}
