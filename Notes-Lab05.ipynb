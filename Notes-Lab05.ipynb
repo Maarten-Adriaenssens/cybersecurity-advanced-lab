{
 "cells": [
  {
   "cell_type": "markdown",
   "metadata": {},
   "source": [
    "# Cybersecurity advanced\n",
    "## Lab 05: Honeypot"
   ]
  },
  {
   "cell_type": "markdown",
   "metadata": {},
   "source": [
    "\n",
    "Links to Syllabus\n",
    "\n",
    "- [Theoretical](https://hogenttin.github.io/cybersecurity-advanced/lesson-5/theory/)\n",
    "- [Practical](https://hogenttin.github.io/cybersecurity-advanced/lesson-5/lab/)"
   ]
  },
  {
   "cell_type": "markdown",
   "metadata": {
    "vscode": {
     "languageId": "bat"
    }
   },
   "source": [
    "Installation of docker\n",
    "```\n",
    "[vagrant@companyrouter ~]$ sudo yum install -y yum-utils device-mapperpersistent-\n",
    "data lvm2\n",
    "[vagrant@companyrouter ~]$ sudo yum-config-manager --add-repo\n",
    "https://download.docker.com/linux/centos/docker-ce.repo\n",
    "[vagrant@companyrouter ~]$ sudo yum install -y docker-ce docker-ce-cli\n",
    "containerd.io\n",
    "[vagrant@companyrouter ~]$ sudo systemctl start docker\n",
    "[vagrant@companyrouter ~]$ sudo systemctl enable docker\n",
    "```\n",
    "\n",
    "Configuration of ssh in the /etc/ssh/sshd_config file\n",
    "```\n",
    "# If you want to change the port on a SELinux system, you have to\n",
    "tell\n",
    "# SELinux about this change.\n",
    "# semanage port -a -t ssh_port_t -p tcp #PORTNUMBER\n",
    "#\n",
    "Port 2222\n",
    "```\n",
    "\n",
    "Configuration of sshd service\n",
    "```\n",
    "[vagrant@companyrouter ~]$ sudo semanage port -a -t ssh_port_t -p tcp 2222\n",
    "[vagrant@companyrouter ~]$ sudo systemctl restart sshd\n",
    "``"
   ]
  },
  {
   "cell_type": "markdown",
   "metadata": {
    "vscode": {
     "languageId": "bat"
    }
   },
   "source": [
    "To test ssh connection change:\n",
    "\n",
    "`isprouter:~$ ssh -p 2222 vagrant@192.168.62.253`\n",
    "\n",
    "#On the host teh config file was changed for the ssh connectionto companyrouter\n",
    "```\n",
    "Host companyrouter\n",
    "    HostName 192.168.62.253\n",
    "    Port 2222\n",
    "    User vagrant\n",
    "    IdentityFile C:\\Users\\maart\\.ssh\\cyber\n",
    "```"
   ]
  },
  {
   "cell_type": "markdown",
   "metadata": {
    "vscode": {
     "languageId": "xml"
    }
   },
   "source": [
    "Installation of cowrie\n",
    "\n",
    "```\n",
    "[vagrant@companyrouter ~]$ sudo iptables -N DOCKER\n",
    "[vagrant@companyrouter ~]$ sudo iptables -t nat -N DOCKER\n",
    "[vagrant@companyrouter ~]$ sudo iptables -t nat -A PREROUTING -m addrtype --dst-type LOCAL -j DOCKER\n",
    "[vagrant@companyrouter ~]$ sudo iptables -t nat -A OUTPUT ! -d 127.0.0.0/8 -m addrtype --dst-type LOCAL -j DOCKER\n",
    "[vagrant@companyrouter ~]$ sudo iptables -A FORWARD -o docker0 -j DOCKER\n",
    "[vagrant@companyrouter ~]$ sudo docker run -p 22:2222 cowrie/cowrie:latest\n",
    "```"
   ]
  },
  {
   "cell_type": "markdown",
   "metadata": {},
   "source": [
    "# Demo\n",
    "\n",
    "check if running `sudo docker ps`\n",
    "\n",
    "Start container if not running: `sudo docker run -d --restart always --name cowrie -v /home/vagrant/cowrie-log:/var/log/cowrie\n",
    "/cowrie.log -p 22:2222 cowrie/cowrie:latest` \n",
    "\n",
    "To connect to the honeypot\n",
    "\n",
    "via `red` machine\n",
    "`ssh root@172.30.255.254 -p22`\n",
    "password: admin\n",
    "\n",
    "ssh to companyrouter \n",
    "show logs: `sudo docker logs <docker-id>`\n"
   ]
  },
  {
   "cell_type": "markdown",
   "metadata": {},
   "source": []
  }
 ],
 "metadata": {
  "language_info": {
   "name": "python"
  }
 },
 "nbformat": 4,
 "nbformat_minor": 2
}
